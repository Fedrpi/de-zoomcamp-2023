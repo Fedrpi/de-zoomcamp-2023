{
 "cells": [
  {
   "cell_type": "code",
   "execution_count": 1,
   "metadata": {},
   "outputs": [],
   "source": [
    "import pandas as pd"
   ]
  },
  {
   "cell_type": "code",
   "execution_count": 19,
   "metadata": {},
   "outputs": [],
   "source": [
    "df = pd.read_csv('/Users/fdr/SqlProjects/Datatalks/de_zoomcamp_2023/data/raw/fhv/fhv_tripdata_2019-02.csv')"
   ]
  },
  {
   "cell_type": "code",
   "execution_count": 20,
   "metadata": {},
   "outputs": [
    {
     "data": {
      "text/html": [
       "<div>\n",
       "<style scoped>\n",
       "    .dataframe tbody tr th:only-of-type {\n",
       "        vertical-align: middle;\n",
       "    }\n",
       "\n",
       "    .dataframe tbody tr th {\n",
       "        vertical-align: top;\n",
       "    }\n",
       "\n",
       "    .dataframe thead th {\n",
       "        text-align: right;\n",
       "    }\n",
       "</style>\n",
       "<table border=\"1\" class=\"dataframe\">\n",
       "  <thead>\n",
       "    <tr style=\"text-align: right;\">\n",
       "      <th></th>\n",
       "      <th>dispatching_base_num</th>\n",
       "      <th>pickup_datetime</th>\n",
       "      <th>dropOff_datetime</th>\n",
       "      <th>PUlocationID</th>\n",
       "      <th>DOlocationID</th>\n",
       "      <th>SR_Flag</th>\n",
       "      <th>Affiliated_base_number</th>\n",
       "    </tr>\n",
       "  </thead>\n",
       "  <tbody>\n",
       "    <tr>\n",
       "      <th>0</th>\n",
       "      <td>B00037</td>\n",
       "      <td>2019-02-01 00:08:44</td>\n",
       "      <td>2019-02-01 00:23:35</td>\n",
       "      <td>264.0</td>\n",
       "      <td>265.0</td>\n",
       "      <td>NaN</td>\n",
       "      <td>B00037</td>\n",
       "    </tr>\n",
       "    <tr>\n",
       "      <th>1</th>\n",
       "      <td>B00037</td>\n",
       "      <td>2019-02-01 00:27:51</td>\n",
       "      <td>2019-02-01 00:32:54</td>\n",
       "      <td>264.0</td>\n",
       "      <td>265.0</td>\n",
       "      <td>NaN</td>\n",
       "      <td>B00037</td>\n",
       "    </tr>\n",
       "    <tr>\n",
       "      <th>2</th>\n",
       "      <td>B00037</td>\n",
       "      <td>2019-02-01 00:18:30</td>\n",
       "      <td>2019-02-01 00:25:45</td>\n",
       "      <td>264.0</td>\n",
       "      <td>265.0</td>\n",
       "      <td>NaN</td>\n",
       "      <td>B00037</td>\n",
       "    </tr>\n",
       "    <tr>\n",
       "      <th>3</th>\n",
       "      <td>B00037</td>\n",
       "      <td>2019-02-01 00:43:15</td>\n",
       "      <td>2019-02-01 00:48:29</td>\n",
       "      <td>264.0</td>\n",
       "      <td>265.0</td>\n",
       "      <td>NaN</td>\n",
       "      <td>B00037</td>\n",
       "    </tr>\n",
       "    <tr>\n",
       "      <th>4</th>\n",
       "      <td>B00037</td>\n",
       "      <td>2019-02-01 00:01:45</td>\n",
       "      <td>2019-02-01 00:09:13</td>\n",
       "      <td>264.0</td>\n",
       "      <td>265.0</td>\n",
       "      <td>NaN</td>\n",
       "      <td>B00037</td>\n",
       "    </tr>\n",
       "    <tr>\n",
       "      <th>...</th>\n",
       "      <td>...</td>\n",
       "      <td>...</td>\n",
       "      <td>...</td>\n",
       "      <td>...</td>\n",
       "      <td>...</td>\n",
       "      <td>...</td>\n",
       "      <td>...</td>\n",
       "    </tr>\n",
       "    <tr>\n",
       "      <th>1707644</th>\n",
       "      <td>B03129</td>\n",
       "      <td>2019-02-28 23:55:25</td>\n",
       "      <td>2019-03-01 00:06:18</td>\n",
       "      <td>94.0</td>\n",
       "      <td>169.0</td>\n",
       "      <td>NaN</td>\n",
       "      <td>B03129</td>\n",
       "    </tr>\n",
       "    <tr>\n",
       "      <th>1707645</th>\n",
       "      <td>B03157</td>\n",
       "      <td>2019-02-28 23:35:26</td>\n",
       "      <td>2019-02-28 23:39:00</td>\n",
       "      <td>264.0</td>\n",
       "      <td>265.0</td>\n",
       "      <td>NaN</td>\n",
       "      <td>B03157</td>\n",
       "    </tr>\n",
       "    <tr>\n",
       "      <th>1707646</th>\n",
       "      <td>B03157</td>\n",
       "      <td>2019-02-28 23:13:40</td>\n",
       "      <td>2019-02-28 23:17:24</td>\n",
       "      <td>264.0</td>\n",
       "      <td>265.0</td>\n",
       "      <td>NaN</td>\n",
       "      <td>B03157</td>\n",
       "    </tr>\n",
       "    <tr>\n",
       "      <th>1707647</th>\n",
       "      <td>B03157</td>\n",
       "      <td>2019-02-28 23:18:45</td>\n",
       "      <td>2019-02-28 23:56:57</td>\n",
       "      <td>264.0</td>\n",
       "      <td>265.0</td>\n",
       "      <td>NaN</td>\n",
       "      <td>B03157</td>\n",
       "    </tr>\n",
       "    <tr>\n",
       "      <th>1707648</th>\n",
       "      <td>B03177</td>\n",
       "      <td>2019-02-28 23:45:40</td>\n",
       "      <td>2019-02-28 23:49:41</td>\n",
       "      <td>264.0</td>\n",
       "      <td>265.0</td>\n",
       "      <td>NaN</td>\n",
       "      <td>B03177</td>\n",
       "    </tr>\n",
       "  </tbody>\n",
       "</table>\n",
       "<p>1707649 rows × 7 columns</p>\n",
       "</div>"
      ],
      "text/plain": [
       "        dispatching_base_num      pickup_datetime     dropOff_datetime  \\\n",
       "0                     B00037  2019-02-01 00:08:44  2019-02-01 00:23:35   \n",
       "1                     B00037  2019-02-01 00:27:51  2019-02-01 00:32:54   \n",
       "2                     B00037  2019-02-01 00:18:30  2019-02-01 00:25:45   \n",
       "3                     B00037  2019-02-01 00:43:15  2019-02-01 00:48:29   \n",
       "4                     B00037  2019-02-01 00:01:45  2019-02-01 00:09:13   \n",
       "...                      ...                  ...                  ...   \n",
       "1707644               B03129  2019-02-28 23:55:25  2019-03-01 00:06:18   \n",
       "1707645               B03157  2019-02-28 23:35:26  2019-02-28 23:39:00   \n",
       "1707646               B03157  2019-02-28 23:13:40  2019-02-28 23:17:24   \n",
       "1707647               B03157  2019-02-28 23:18:45  2019-02-28 23:56:57   \n",
       "1707648               B03177  2019-02-28 23:45:40  2019-02-28 23:49:41   \n",
       "\n",
       "         PUlocationID  DOlocationID  SR_Flag Affiliated_base_number  \n",
       "0               264.0         265.0      NaN                 B00037  \n",
       "1               264.0         265.0      NaN                 B00037  \n",
       "2               264.0         265.0      NaN                 B00037  \n",
       "3               264.0         265.0      NaN                 B00037  \n",
       "4               264.0         265.0      NaN                 B00037  \n",
       "...               ...           ...      ...                    ...  \n",
       "1707644          94.0         169.0      NaN                 B03129  \n",
       "1707645         264.0         265.0      NaN                 B03157  \n",
       "1707646         264.0         265.0      NaN                 B03157  \n",
       "1707647         264.0         265.0      NaN                 B03157  \n",
       "1707648         264.0         265.0      NaN                 B03177  \n",
       "\n",
       "[1707649 rows x 7 columns]"
      ]
     },
     "execution_count": 20,
     "metadata": {},
     "output_type": "execute_result"
    }
   ],
   "source": [
    "df"
   ]
  },
  {
   "cell_type": "code",
   "execution_count": 18,
   "metadata": {},
   "outputs": [
    {
     "data": {
      "text/plain": [
       "array([nan])"
      ]
     },
     "execution_count": 18,
     "metadata": {},
     "output_type": "execute_result"
    }
   ],
   "source": [
    "df['SR_Flag'].unique()"
   ]
  },
  {
   "cell_type": "code",
   "execution_count": 6,
   "metadata": {},
   "outputs": [
    {
     "data": {
      "text/plain": [
       "array(['N', 'Y', nan], dtype=object)"
      ]
     },
     "execution_count": 6,
     "metadata": {},
     "output_type": "execute_result"
    }
   ],
   "source": [
    "df['store_and_fwd_flag'].unique()"
   ]
  }
 ],
 "metadata": {
  "kernelspec": {
   "display_name": "env",
   "language": "python",
   "name": "python3"
  },
  "language_info": {
   "codemirror_mode": {
    "name": "ipython",
    "version": 3
   },
   "file_extension": ".py",
   "mimetype": "text/x-python",
   "name": "python",
   "nbconvert_exporter": "python",
   "pygments_lexer": "ipython3",
   "version": "3.10.6"
  },
  "orig_nbformat": 4,
  "vscode": {
   "interpreter": {
    "hash": "8933d895466d1e6d819e95d3541c090661381f9dcd907533ea66bc312424ea5c"
   }
  }
 },
 "nbformat": 4,
 "nbformat_minor": 2
}
